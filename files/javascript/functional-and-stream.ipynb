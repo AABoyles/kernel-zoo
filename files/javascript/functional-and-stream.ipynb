{
  "cells": [
    {
      "cell_type": "markdown",
      "metadata": {},
      "source": [
        "# Functional Programming Style and Streams\n",
        "\n",
        "*Adapted from https://github.com/bencode/code/blob/main/content/functional-and-stream.ipynb*"
      ]
    },
    {
      "cell_type": "markdown",
      "metadata": {},
      "source": [
        "## Prime Number Check\n",
        "\n",
        "An unoptimized naive algorithm."
      ]
    },
    {
      "cell_type": "code",
      "execution_count": 1,
      "metadata": {
        "trusted": true
      },
      "outputs": [
        {
          "data": {},
          "execution_count": 1,
          "metadata": {},
          "output_type": "execute_result"
        }
      ],
      "source": [
        "function isPrime(n) {\n",
        "  if (n < 2) {\n",
        "    return false;\n",
        "  }\n",
        "\n",
        "  // A simple optimization: we only need to check up to sqrt(n)\n",
        "  for (let i = 2; i < n; i++) {\n",
        "    if (n % i === 0) {\n",
        "      return false;\n",
        "    }\n",
        "  }\n",
        "  return true;\n",
        "}"
      ]
    },
    {
      "cell_type": "code",
      "execution_count": 2,
      "metadata": {
        "trusted": true
      },
      "outputs": [
        {
          "data": {
            "text/plain": [
              "true"
            ]
          },
          "execution_count": 2,
          "metadata": {},
          "output_type": "execute_result"
        }
      ],
      "source": [
        "isPrime(2)"
      ]
    },
    {
      "cell_type": "code",
      "execution_count": 3,
      "metadata": {
        "trusted": true
      },
      "outputs": [
        {
          "data": {
            "text/plain": [
              "true"
            ]
          },
          "execution_count": 3,
          "metadata": {},
          "output_type": "execute_result"
        }
      ],
      "source": [
        "isPrime(11)"
      ]
    },
    {
      "cell_type": "code",
      "execution_count": 4,
      "metadata": {
        "trusted": true
      },
      "outputs": [
        {
          "data": {
            "text/plain": [
              "true"
            ]
          },
          "execution_count": 4,
          "metadata": {},
          "output_type": "execute_result"
        }
      ],
      "source": [
        "isPrime(2**13 - 1)"
      ]
    },
    {
      "cell_type": "code",
      "execution_count": 5,
      "metadata": {
        "trusted": true
      },
      "outputs": [
        {
          "data": {
            "text/plain": [
              "false"
            ]
          },
          "execution_count": 5,
          "metadata": {},
          "output_type": "execute_result"
        }
      ],
      "source": [
        "isPrime(2**11-1)"
      ]
    },
    {
      "cell_type": "markdown",
      "metadata": {},
      "source": [
        "Let's begin with two pieces of code in imperative style."
      ]
    },
    {
      "cell_type": "markdown",
      "metadata": {},
      "source": [
        "## Sum of All Primes Under 100"
      ]
    },
    {
      "cell_type": "code",
      "execution_count": 6,
      "metadata": {
        "trusted": true
      },
      "outputs": [
        {
          "data": {
            "text/plain": [
              "76127"
            ]
          },
          "execution_count": 6,
          "metadata": {},
          "output_type": "execute_result"
        }
      ],
      "source": [
        "let s = 0;\n",
        "const n = 1000;\n",
        "for (let i = 1; i <= n; i++) {\n",
        "  if (isPrime(i)) {\n",
        "    s += i;\n",
        "  }\n",
        "}\n",
        "s"
      ]
    },
    {
      "cell_type": "markdown",
      "metadata": {},
      "source": [
        "## Find Three Prime Numbers Greater Than 1000"
      ]
    },
    {
      "cell_type": "code",
      "execution_count": 7,
      "metadata": {
        "trusted": true
      },
      "outputs": [
        {
          "data": {
            "text/plain": [
              "[ 1009, 1013, 1019 ]"
            ]
          },
          "execution_count": 7,
          "metadata": {},
          "output_type": "execute_result"
        }
      ],
      "source": [
        "const list = [];\n",
        "let start = 1000;\n",
        "while (list.length < 3) {\n",
        "  if (isPrime(start)) {\n",
        "    list.push(start);\n",
        "  }\n",
        "  start++;\n",
        "}\n",
        "\n",
        "list"
      ]
    },
    {
      "cell_type": "markdown",
      "metadata": {},
      "source": [
        "Let's look at how to express these problems using functional programming."
      ]
    },
    {
      "cell_type": "markdown",
      "metadata": {},
      "source": [
        "## Functional Programming Utilities"
      ]
    },
    {
      "cell_type": "code",
      "execution_count": 8,
      "metadata": {
        "trusted": true
      },
      "outputs": [
        {
          "data": {},
          "execution_count": 8,
          "metadata": {},
          "output_type": "execute_result"
        }
      ],
      "source": [
        "function filter(f, ls) {\n",
        " return ls.filter(f)\n",
        "}\n",
        "\n",
        "function range(n) {\n",
        "  return [...Array(n).keys()]\n",
        "}\n",
        "\n",
        "function sum(ls) {\n",
        "  return ls.reduce((a, b) => a + b, 0)\n",
        "}"
      ]
    },
    {
      "cell_type": "markdown",
      "metadata": {},
      "source": [
        "## Calculate the Sum of All Primes Below 1000"
      ]
    },
    {
      "cell_type": "code",
      "execution_count": 9,
      "metadata": {
        "trusted": true
      },
      "outputs": [
        {
          "data": {
            "text/plain": [
              "76127"
            ]
          },
          "execution_count": 9,
          "metadata": {},
          "output_type": "execute_result"
        }
      ],
      "source": [
        "sum(filter(isPrime, range(1000)))"
      ]
    },
    {
      "cell_type": "code",
      "execution_count": 10,
      "metadata": {
        "trusted": true
      },
      "outputs": [
        {
          "data": {
            "text/plain": [
              "277050"
            ]
          },
          "execution_count": 10,
          "metadata": {},
          "output_type": "execute_result"
        }
      ],
      "source": [
        "sum(filter(isPrime, range(2000)))"
      ]
    },
    {
      "cell_type": "markdown",
      "metadata": {},
      "source": [
        "How about applying this to multiple numbers? As usual, we need a function to wrap this logic."
      ]
    },
    {
      "cell_type": "markdown",
      "metadata": {},
      "source": [
        "## Again"
      ]
    },
    {
      "cell_type": "code",
      "execution_count": 11,
      "metadata": {
        "trusted": true
      },
      "outputs": [
        {
          "data": {
            "text/plain": [
              "277050"
            ]
          },
          "execution_count": 11,
          "metadata": {},
          "output_type": "execute_result"
        }
      ],
      "source": [
        "const filter = f => ls => ls.filter(f)\n",
        "const filterPrime = filter(isPrime)\n",
        "const sumOfPrime = x => sum(filterPrime(x))\n",
        "\n",
        "sumOfPrime(range(1000))\n",
        "sumOfPrime(range(2000))"
      ]
    },
    {
      "cell_type": "markdown",
      "metadata": {},
      "source": [
        "## compose\n",
        "\n",
        "Using `compose` to make it more explicit"
      ]
    },
    {
      "cell_type": "code",
      "execution_count": 12,
      "metadata": {
        "trusted": true
      },
      "outputs": [
        {
          "data": {
            "text/plain": [
              "76127"
            ]
          },
          "execution_count": 12,
          "metadata": {},
          "output_type": "execute_result"
        }
      ],
      "source": [
        "const filter = f => ls => ls.filter(f)\n",
        "const compose = (f, g) => x => f(g(x))\n",
        "const sumOfPrime = compose(    // Function composition\n",
        "  sum,                        // 2. Calculate sum\n",
        "  filter(isPrime),            // 1. Filter out prime numbers\n",
        ")\n",
        "sumOfPrime(range(1000))"
      ]
    },
    {
      "cell_type": "markdown",
      "metadata": {},
      "source": [
        "compose is right-associative, so the execution flow above is: filter first, then sum.\n",
        "\n",
        "Think of it as data flowing from right to left.\n",
        "\n",
        "```\n",
        "output <<-- sum <<-- filter(isPrimce) <<-- input\n",
        "```"
      ]
    },
    {
      "cell_type": "markdown",
      "metadata": {},
      "source": [
        "Notice that when using compose with the curried form of filter, the data argument disappears - this is called pointfree style, but that's another story."
      ]
    },
    {
      "cell_type": "markdown",
      "metadata": {},
      "source": [
        "Let's move on to the second problem first."
      ]
    },
    {
      "cell_type": "markdown",
      "metadata": {},
      "source": [
        "## Find Three Prime Numbers Greater Than 1000\n",
        "\n",
        "How can we solve this functionally?"
      ]
    },
    {
      "cell_type": "markdown",
      "metadata": {},
      "source": [
        "Let's begin with a simple version, like this:"
      ]
    },
    {
      "cell_type": "code",
      "execution_count": 13,
      "metadata": {
        "trusted": true
      },
      "outputs": [
        {
          "data": {},
          "execution_count": 13,
          "metadata": {},
          "output_type": "execute_result"
        }
      ],
      "source": [
        "// take(3, filter(isPrime, range(1000, 2000)))"
      ]
    },
    {
      "cell_type": "markdown",
      "metadata": {},
      "source": [
        "Let's extend the previous `range` function"
      ]
    },
    {
      "cell_type": "code",
      "execution_count": 14,
      "metadata": {
        "trusted": true
      },
      "outputs": [
        {
          "data": {},
          "execution_count": 14,
          "metadata": {},
          "output_type": "execute_result"
        }
      ],
      "source": [
        "function range([start, end]) {\n",
        "  return Array(end - start).fill(0).map((_, i) => start + i)\n",
        "}"
      ]
    },
    {
      "cell_type": "code",
      "execution_count": 15,
      "metadata": {
        "trusted": true
      },
      "outputs": [
        {
          "data": {
            "text/plain": [
              "[ 1, 2, 3, 4 ]"
            ]
          },
          "execution_count": 15,
          "metadata": {},
          "output_type": "execute_result"
        }
      ],
      "source": [
        "range([1, 5])"
      ]
    },
    {
      "cell_type": "markdown",
      "metadata": {},
      "source": [
        "`take` is used to get the first elements from a list."
      ]
    },
    {
      "cell_type": "code",
      "execution_count": 16,
      "metadata": {
        "trusted": true
      },
      "outputs": [
        {
          "data": {},
          "execution_count": 16,
          "metadata": {},
          "output_type": "execute_result"
        }
      ],
      "source": [
        "function take(n, list) {\n",
        "  return list.slice(0, n)\n",
        "}"
      ]
    },
    {
      "cell_type": "code",
      "execution_count": 17,
      "metadata": {
        "trusted": true
      },
      "outputs": [
        {
          "data": {
            "text/plain": [
              "[ 1009, 1013, 1019 ]"
            ]
          },
          "execution_count": 17,
          "metadata": {},
          "output_type": "execute_result"
        }
      ],
      "source": [
        "take(3, filter(isPrime, range([1000, 2000])))"
      ]
    },
    {
      "cell_type": "markdown",
      "metadata": {},
      "source": [
        "## Problems\n",
        "\n",
        "The above implementation has two issues:\n",
        "\n",
        "- If we need 100 prime numbers greater than 1000, we don't know how large to set the upper bound of the range;\n",
        "- Although we only need 3 numbers, it actually finds all prime numbers between 1000~2000, performing unnecessary calculations.\n",
        "\n",
        "How can we express this in a functional style while also achieving lazy evaluation?\n",
        "This \"having our cake and eating it too\" is very important."
      ]
    },
    {
      "cell_type": "markdown",
      "metadata": {},
      "source": [
        "Come to think of it, we need a \"chain-like\" structure where each element is \"lazy\" - this structure is called Stream."
      ]
    },
    {
      "cell_type": "markdown",
      "metadata": {},
      "source": [
        "## Natural Numbers\n",
        "\n",
        "Let's begin exploring this structure with natural numbers, which start from 0 in modern set theory-based mathematics."
      ]
    },
    {
      "cell_type": "code",
      "execution_count": 18,
      "metadata": {
        "trusted": true
      },
      "outputs": [
        {
          "data": {},
          "execution_count": 18,
          "metadata": {},
          "output_type": "execute_result"
        }
      ],
      "source": [
        "function N(n = 0) {\n",
        "  return { value: n, next: () => N(n + 1) }\n",
        "}"
      ]
    },
    {
      "cell_type": "code",
      "execution_count": 19,
      "metadata": {
        "trusted": true
      },
      "outputs": [
        {
          "data": {
            "text/plain": [
              "{ value: 0, next: [Function: next] }"
            ]
          },
          "execution_count": 19,
          "metadata": {},
          "output_type": "execute_result"
        }
      ],
      "source": [
        "N()"
      ]
    },
    {
      "cell_type": "code",
      "execution_count": 20,
      "metadata": {
        "trusted": true
      },
      "outputs": [
        {
          "name": "stdout",
          "output_type": "stream",
          "text": [
            "0\n",
            "1\n",
            "2\n",
            "3\n",
            "4\n",
            "5\n",
            "6\n",
            "7\n",
            "8\n",
            "9\n"
          ]
        },
        {
          "data": {
            "text/plain": [
              "{ value: 10, next: [Function: next] }"
            ]
          },
          "execution_count": 20,
          "metadata": {},
          "output_type": "execute_result"
        }
      ],
      "source": [
        "let o = N()\n",
        "for (let i = 0; i < 10; i++) {\n",
        "  console.log(o.value)\n",
        "  o = o.next()\n",
        "}"
      ]
    },
    {
      "cell_type": "markdown",
      "metadata": {},
      "source": [
        "Notice that it is immutable and pure."
      ]
    },
    {
      "cell_type": "markdown",
      "metadata": {},
      "source": [
        "### Refactoring\n",
        "\n",
        "Note that the constructor (N) and next are actually the same thing, just from a different perspective."
      ]
    },
    {
      "cell_type": "code",
      "execution_count": 21,
      "metadata": {
        "trusted": true
      },
      "outputs": [
        {
          "name": "stdout",
          "output_type": "stream",
          "text": [
            "0\n",
            "1\n",
            "2\n",
            "3\n",
            "4\n",
            "5\n",
            "6\n",
            "7\n",
            "8\n",
            "9\n"
          ]
        },
        {
          "data": {
            "text/plain": [
              "[Function: next]"
            ]
          },
          "execution_count": 21,
          "metadata": {},
          "output_type": "execute_result"
        }
      ],
      "source": [
        "const N = (n = 0) => {\n",
        " return { value: n, next: () => N(n + 1) }\n",
        "}\n",
        "\n",
        "let cur = N\n",
        "for (let i = 0; i < 10; i++) {\n",
        " const iter = cur()  // Instantiate element, i.e., call before accessing\n",
        "   \n",
        " console.log(iter.value)\n",
        "   \n",
        " cur = iter.next    // Chain operations\n",
        "}"
      ]
    },
    {
      "cell_type": "markdown",
      "metadata": {},
      "source": [
        "## Stream \n",
        "\n",
        "The above structure can be described in types as\n",
        "\n",
        "```ts\n",
        "type Stream<T> = () => StreamItem<T>\n",
        "type StreamItem<T> = {\n",
        "  value: T\n",
        "  next: Stream<T>\n",
        "}\n",
        "```\n",
        "\n",
        "Next, we'll implement some operations on this structure."
      ]
    },
    {
      "cell_type": "markdown",
      "metadata": {},
      "source": [
        "### take"
      ]
    },
    {
      "cell_type": "code",
      "execution_count": 22,
      "metadata": {
        "trusted": true
      },
      "outputs": [
        {
          "data": {},
          "execution_count": 22,
          "metadata": {},
          "output_type": "execute_result"
        }
      ],
      "source": [
        "// Number, Stream<T> -> [T]\n",
        "\n",
        "function take(n, st) {\n",
        "  const list = []\n",
        "  let cur = st\n",
        "  for (let i = 0; i < n && cur; i++) {\n",
        "    const iter = cur()\n",
        "    list.push(iter.value)\n",
        "    cur = iter.next\n",
        "  }\n",
        "  return list\n",
        "}"
      ]
    },
    {
      "cell_type": "code",
      "execution_count": 23,
      "metadata": {
        "trusted": true
      },
      "outputs": [
        {
          "data": {
            "text/plain": [
              "[ 0, 1, 2, 3, 4, 5, 6 ]"
            ]
          },
          "execution_count": 23,
          "metadata": {},
          "output_type": "execute_result"
        }
      ],
      "source": [
        "take(7, N)"
      ]
    },
    {
      "cell_type": "markdown",
      "metadata": {},
      "source": [
        "### filter"
      ]
    },
    {
      "cell_type": "code",
      "execution_count": 24,
      "metadata": {
        "trusted": true
      },
      "outputs": [
        {
          "data": {},
          "execution_count": 24,
          "metadata": {},
          "output_type": "execute_result"
        }
      ],
      "source": [
        "function filter(f, st) {\n",
        "  return () => {\n",
        "    const iter = st()\n",
        "    const next = iter.next ? filter(f, iter.next) : undefined\n",
        "    if (f(iter.value)) {\n",
        "      return { value: iter.value, next }\n",
        "    }\n",
        "    return next ? next() : undefined\n",
        "  }\n",
        "}"
      ]
    },
    {
      "cell_type": "markdown",
      "metadata": {},
      "source": [
        "## Take the First 15 Even Numbers"
      ]
    },
    {
      "cell_type": "code",
      "execution_count": 25,
      "metadata": {
        "trusted": true
      },
      "outputs": [
        {
          "data": {
            "text/plain": [
              "[ 0, 2, 4, 6, 8, 10, 12, 14, 16, 18, 20, 22, 24, 26, 28 ]"
            ]
          },
          "execution_count": 25,
          "metadata": {},
          "output_type": "execute_result"
        }
      ],
      "source": [
        "const N = (n = 0) => {\n",
        "  return { value: n, next: () => N(n + 1) }\n",
        "}\n",
        "\n",
        "take(15, filter(v => v % 2 === 0, N))"
      ]
    },
    {
      "cell_type": "markdown",
      "metadata": {},
      "source": [
        "It feels like time is being folded. Now let's look at prime."
      ]
    },
    {
      "cell_type": "markdown",
      "metadata": {},
      "source": [
        "### Take the First 10 Primes"
      ]
    },
    {
      "cell_type": "code",
      "execution_count": 26,
      "metadata": {
        "trusted": true
      },
      "outputs": [
        {
          "data": {
            "text/plain": [
              "[ 2, 3, 5, 7, 11, 13, 17, 19, 23, 29 ]"
            ]
          },
          "execution_count": 26,
          "metadata": {},
          "output_type": "execute_result"
        }
      ],
      "source": [
        "take(10, filter(isPrime, N))"
      ]
    },
    {
      "cell_type": "markdown",
      "metadata": {},
      "source": [
        "## Take the First Three Primes Above 1000"
      ]
    },
    {
      "cell_type": "code",
      "execution_count": 27,
      "metadata": {
        "trusted": true
      },
      "outputs": [
        {
          "data": {
            "text/plain": [
              "[ 1009, 1013, 1019 ]"
            ]
          },
          "execution_count": 27,
          "metadata": {},
          "output_type": "execute_result"
        }
      ],
      "source": [
        "take(3, filter(v => v > 1000 && isPrime(v), N))"
      ]
    },
    {
      "cell_type": "markdown",
      "metadata": {},
      "source": [
        "How to Find All Prime Numbers Between 1000 and 2000?"
      ]
    },
    {
      "cell_type": "markdown",
      "metadata": {},
      "source": [
        "## Range\n",
        "\n",
        "We need a stream that represents a Range."
      ]
    },
    {
      "cell_type": "code",
      "execution_count": 28,
      "metadata": {
        "trusted": true
      },
      "outputs": [
        {
          "data": {},
          "execution_count": 28,
          "metadata": {},
          "output_type": "execute_result"
        }
      ],
      "source": [
        "function Range([a, b]) {\n",
        "  const iter = value => () => {\n",
        "    const next = value + 1 < b ? iter(value + 1) : undefined\n",
        "    return { value, next }\n",
        "  }\n",
        "  return iter(a)\n",
        "}"
      ]
    },
    {
      "cell_type": "code",
      "execution_count": 29,
      "metadata": {
        "trusted": true
      },
      "outputs": [
        {
          "data": {
            "text/plain": [
              "[ 1009, 1013, 1019, 1021, 1031, 1033, 1039, 1049, 1051, 1061, 1063, 1069, 1087, 1091, 1093, 1097, 1103, 1109, 1117, 1123, 1129, 1151, 1153, 1163, 1171, 1181, 1187, 1193, 1201, 1213, 1217, 1223, 1229, 1231, 1237, 1249, 1259, 1277, 1279, 1283, 1289, 1291, 1297, 1301, 1303, 1307, 1319, 1321, 1327, 1361, 1367, 1373, 1381, 1399, 1409, 1423, 1427, 1429, 1433, 1439, 1447, 1451, 1453, 1459, 1471, 1481, 1483, 1487, 1489, 1493, 1499, 1511, 1523, 1531, 1543, 1549, 1553, 1559, 1567, 1571, 1579, 1583, 1597, 1601, 1607, 1609, 1613, 1619, 1621, 1627, 1637, 1657, 1663, 1667, 1669, 1693, 1697, 1699, 1709, 1721, 1723, 1733, 1741, 1747, 1753, 1759, 1777, 1783, 1787, 1789, 1801, 1811, 1823, 1831, 1847, 1861, 1867, 1871, 1873, 1877, 1879, 1889, 1901, 1907, 1913, 1931, 1933, 1949, 1951, 1973, 1979, 1987, 1993, 1997, 1999 ]"
            ]
          },
          "execution_count": 29,
          "metadata": {},
          "output_type": "execute_result"
        }
      ],
      "source": [
        "take(10000, filter(isPrime, Range([1000, 2000])))"
      ]
    },
    {
      "cell_type": "markdown",
      "metadata": {},
      "source": [
        "## Map\n",
        "\n",
        "`map` for Stream"
      ]
    },
    {
      "cell_type": "code",
      "execution_count": 30,
      "metadata": {
        "trusted": true
      },
      "outputs": [
        {
          "data": {},
          "execution_count": 30,
          "metadata": {},
          "output_type": "execute_result"
        }
      ],
      "source": [
        "function map(f, st) {\n",
        "  return () => {\n",
        "    const iter = st()\n",
        "    const value = f(iter.value)\n",
        "    const next = iter.next ? map(f, iter.next) : undefined\n",
        "    return { value, next }\n",
        "  }\n",
        "}"
      ]
    },
    {
      "cell_type": "code",
      "execution_count": 31,
      "metadata": {
        "trusted": true
      },
      "outputs": [
        {
          "data": {
            "text/plain": [
              "[ 0, 2, 4, 6, 8, 10, 12, 14, 16, 18 ]"
            ]
          },
          "execution_count": 31,
          "metadata": {},
          "output_type": "execute_result"
        }
      ],
      "source": [
        "// Even\n",
        "const _2N = map(x => x * 2, N)\n",
        "\n",
        "take(10, _2N)"
      ]
    },
    {
      "cell_type": "code",
      "execution_count": null,
      "metadata": {
        "trusted": true
      },
      "outputs": [],
      "source": []
    }
  ],
  "metadata": {
    "kernelspec": {
      "display_name": "JavaScript (Web Worker)",
      "language": "javascript",
      "name": "javascript"
    },
    "language_info": {
      "codemirror_mode": {
        "name": "javascript"
      },
      "file_extension": ".js",
      "mimetype": "text/javascript",
      "name": "javascript",
      "nbconvert_exporter": "javascript",
      "pygments_lexer": "javascript",
      "version": "es2017"
    }
  },
  "nbformat": 4,
  "nbformat_minor": 4
}
