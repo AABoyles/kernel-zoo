{
  "cells": [
    {
      "cell_type": "markdown",
      "metadata": {},
      "source": [
        "# SQLite\n",
        "\n",
        "*Adapted from https://sql.js.org/examples/GUI/index.html*\n",
        "\n",
        "**Important!** Before we get too far into this, you should know that there is currently no ability to:\n",
        "\n",
        "- save the database to browser storage;\n",
        "- export the database;\n",
        "- load a database from browser storage;\n",
        "- load a database from a URL;\n",
        "- load a database from the desktop;\n",
        "- connect to a remote sqlite database file.\n",
        "\n",
        "*Caveat Emptor.*\n",
        "\n",
        "Let's get started by creating a new database."
      ]
    },
    {
      "cell_type": "code",
      "execution_count": 12,
      "metadata": {
        "trusted": true
      },
      "outputs": [],
      "source": [
        "%CREATE example_db.db"
      ]
    },
    {
      "cell_type": "markdown",
      "metadata": {},
      "source": [
        " *no way to export this database from Jupyterlite.* You're welcome to do whatever you like, but DO NOT use this as a database manager expecting to be able to leverage the database outside of this application."
      ]
    },
    {
      "cell_type": "code",
      "execution_count": 14,
      "metadata": {
        "trusted": true
      },
      "outputs": [],
      "source": [
        "CREATE TABLE employees( id          integer,  name    text,\n",
        "                          designation text,     manager integer,\n",
        "                          hired_on    date,     salary  integer,\n",
        "                          commission  float,    dept    integer);"
      ]
    },
    {
      "cell_type": "markdown",
      "metadata": {},
      "source": [
        "One other critical constraint to be aware of is that only the first SQL query in a cell is evaluated. So, for example, it we run:"
      ]
    },
    {
      "cell_type": "code",
      "execution_count": 15,
      "metadata": {
        "trusted": true
      },
      "outputs": [],
      "source": [
        "INSERT INTO employees VALUES (1,'JOHNSON','ADMIN',6,'1990-12-17',18000,NULL,4);\n",
        "INSERT INTO employees VALUES (2,'HARDING','MANAGER',9,'1998-02-02',52000,300,3);"
      ]
    },
    {
      "cell_type": "markdown",
      "metadata": {},
      "source": [
        "It SEEMS to work just fine. But if we then query the contents of the table..."
      ]
    },
    {
      "cell_type": "code",
      "execution_count": 16,
      "metadata": {
        "trusted": true
      },
      "outputs": [
        {
          "data": {
            "text/html": [
              "<table>\n",
              "<tr>\n",
              "<th>id</th>\n",
              "<th>name</th>\n",
              "<th>designation</th>\n",
              "<th>manager</th>\n",
              "<th>hired_on</th>\n",
              "<th>salary</th>\n",
              "<th>commission</th>\n",
              "<th>dept</th>\n",
              "</tr>\n",
              "<tr>\n",
              "<td>1</td>\n",
              "<td>JOHNSON</td>\n",
              "<td>ADMIN</td>\n",
              "<td>6</td>\n",
              "<td>1990-12-17</td>\n",
              "<td>18000</td>\n",
              "<td></td>\n",
              "<td>4</td>\n",
              "</tr>\n",
              "</table>"
            ],
            "text/plain": [
              "+----+---------+-------------+---------+------------+--------+------------+------+\n",
              "| id | name    | designation | manager | hired_on   | salary | commission | dept |\n",
              "+----+---------+-------------+---------+------------+--------+------------+------+\n",
              "| 1  | JOHNSON | ADMIN       | 6       | 1990-12-17 | 18000  |            | 4    |\n",
              "+----+---------+-------------+---------+------------+--------+------------+------+"
            ]
          },
          "execution_count": 16,
          "metadata": {},
          "output_type": "execute_result"
        }
      ],
      "source": [
        "SELECT * FROM employees;"
      ]
    },
    {
      "cell_type": "markdown",
      "metadata": {},
      "source": [
        "That having been said, SQL queries run perfectly well once your data is (painfully) ennumerated."
      ]
    },
    {
      "cell_type": "code",
      "execution_count": 10,
      "metadata": {
        "trusted": true
      },
      "outputs": [
        {
          "data": {
            "text/html": [
              "<table>\n",
              "<tr>\n",
              "<th>designation</th>\n",
              "<th>nbr</th>\n",
              "<th>avg_salary</th>\n",
              "</tr>\n",
              "<tr>\n",
              "<td>ADMIN</td>\n",
              "<td>1</td>\n",
              "<td>18000.0</td>\n",
              "</tr>\n",
              "</table>"
            ],
            "text/plain": [
              "+-------------+-----+------------+\n",
              "| designation | nbr | avg_salary |\n",
              "+-------------+-----+------------+\n",
              "| ADMIN       | 1   | 18000.0    |\n",
              "+-------------+-----+------------+"
            ]
          },
          "execution_count": 10,
          "metadata": {},
          "output_type": "execute_result"
        }
      ],
      "source": [
        "SELECT designation,COUNT(*) AS nbr, (AVG(salary)) AS avg_salary FROM employees GROUP BY designation ORDER BY avg_salary DESC;"
      ]
    }
  ],
  "metadata": {
    "kernelspec": {
      "display_name": "xsqlite",
      "language": "sqlite",
      "name": "xsqlite"
    },
    "language_info": {
      "codemirror_mode": "sql",
      "file_extension": "",
      "mimetype": "",
      "name": "sql",
      "version": "3.43.0"
    }
  },
  "nbformat": 4,
  "nbformat_minor": 4
}
