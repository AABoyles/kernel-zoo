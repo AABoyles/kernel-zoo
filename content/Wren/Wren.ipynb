{
  "cells": [
    {
      "cell_type": "markdown",
      "metadata": {
        "vscode": {
          "languageId": "plaintext"
        }
      },
      "source": [
        "# Wren\n",
        "\n",
        "[Wren](https://wren.io/), a classy little scripting language"
      ]
    },
    {
      "cell_type": "code",
      "execution_count": 1,
      "metadata": {
        "trusted": true
      },
      "outputs": [
        {
          "name": "stdout",
          "output_type": "stream",
          "text": [
            "hello wren\n"
          ]
        },
        {
          "data": {},
          "execution_count": 1,
          "metadata": {},
          "output_type": "execute_result"
        }
      ],
      "source": [
        "System.print(\"hello wren\")"
      ]
    },
    {
      "cell_type": "code",
      "execution_count": 2,
      "metadata": {
        "trusted": true
      },
      "outputs": [
        {
          "name": "stdout",
          "output_type": "stream",
          "text": [
            "Counting up 1\n",
            "Counting up 2\n",
            "Counting up 3\n",
            "Counting up 4\n",
            "Counting up 5\n",
            "Counting up 6\n",
            "Counting up 7\n",
            "Counting up 8\n",
            "Counting up 9\n",
            "Counting up 10\n"
          ]
        },
        {
          "data": {},
          "execution_count": 2,
          "metadata": {},
          "output_type": "execute_result"
        }
      ],
      "source": [
        "for (i in 1..10) System.print(\"Counting up %(i)\")"
      ]
    },
    {
      "cell_type": "code",
      "execution_count": null,
      "metadata": {
        "vscode": {
          "languageId": "plaintext"
        }
      },
      "outputs": [],
      "source": [
        "System.print(\"Hello, world!\")\n",
        "\n",
        "class Wren {\n",
        "  flyTo(city) {\n",
        "    System.print(\"Flying to %(city)\")\n",
        "  }\n",
        "}\n",
        "\n",
        "var adjectives = Fiber.new {\n",
        "  [\"small\", \"clean\", \"fast\"].each {|word| Fiber.yield(word) }\n",
        "}\n",
        "\n",
        "while (!adjectives.isDone) System.print(adjectives.call())"
      ]
    },
    {
      "cell_type": "code",
      "execution_count": 3,
      "metadata": {
        "trusted": true
      },
      "outputs": [
        {
          "name": "stdout",
          "output_type": "stream",
          "text": [
            "         .......------------------------:::::::::;;;;+=X X & ;:::::::------.....\n",
            "       ......------------------------::::::::::;;;;+==x&  &x=+;;;::::::-------..\n",
            "      ....------------------------::::::::::;;;;++=X         X=;;;;;:::::-------\n",
            "     ...-----------------------::::::::::;;+++++==xX         Xx=+++;;;;;:::-----\n",
            "    ..----------------------::::::::;;;;+x   &XX               & $x===x +;::----\n",
            "   ..--------------------::::;;;;;;;;+++=x&                             $+;::---\n",
            "  ..----------------::::;;;;;;;;;;++++=x$                              $=+;;::--\n",
            "  .-----------:::::;;= x+++++++++====xx&                               &xx+;:::-\n",
            " .-----:::::::::;;;++=$  &$X$ &XXXxxXX&                                   x+;:::\n",
            " ---:::::::::;;;;;;+==X$            &                                    &=;;:::\n",
            " -::::::::;;;;;;+=xxX$                                                   x+;;:::\n",
            " ::;;:::++++++==xX&                                                     =+;;;:::\n",
            "                                                                      Xx=+;;;:::\n",
            " ::;;:::++++++==xX&                                                     =+;;;:::\n",
            " -::::::::;;;;;;+=xxX$                                                   x+;;:::\n",
            " ---:::::::::;;;;;;+==X$            &                                    &=;;:::\n",
            " .-----:::::::::;;;++=$  &$X$ &XXXxxXX&                                   x+;:::\n",
            "  .-----------:::::;;= x+++++++++====xx&                               &xx+;:::-\n",
            "  ..----------------::::;;;;;;;;;;++++=x$                              $=+;;::--\n",
            "   ..--------------------::::;;;;;;;;+++=x&                             $+;::---\n",
            "    ..----------------------::::::::;;;;+x   &XX               & $x===x +;::----\n",
            "     ...-----------------------::::::::::;;+++++==xX         Xx=+++;;;;;:::-----\n",
            "      ....------------------------::::::::::;;;;++=X         X=;;;;;:::::-------\n",
            "       ......------------------------::::::::::;;;;+==x&  &x=+;;;::::::-------..\n"
          ]
        },
        {
          "data": {},
          "execution_count": 3,
          "metadata": {},
          "output_type": "execute_result"
        }
      ],
      "source": [
        "for (yPixel in 0...24) {\n",
        "  var y = yPixel / 12 - 1\n",
        "  for (xPixel in 0...80) {\n",
        "    var x = xPixel / 30 - 2\n",
        "    var x0 = x\n",
        "    var y0 = y\n",
        "    var iter = 0\n",
        "    while (iter < 11 && x0 * x0 + y0 * y0 <= 4) {\n",
        "      var x1 = (x0 * x0) - (y0 * y0) + x\n",
        "      var y1 = 2 * x0 * y0 + y\n",
        "      x0 = x1\n",
        "      y0 = y1\n",
        "      iter = iter + 1\n",
        "    }\n",
        "    System.write(\" .-:;+=xX$& \"[iter])\n",
        "  }\n",
        "  System.print(\"\")\n",
        "}"
      ]
    }
  ],
  "metadata": {
    "kernelspec": {
      "display_name": "Wren",
      "language": "wren",
      "name": "Wren"
    },
    "language_info": {
      "codemirror_mode": "wren",
      "file_extension": "wren",
      "mimetype": "text/x-wren",
      "name": "wren",
      "version": "0.4.0"
    }
  },
  "nbformat": 4,
  "nbformat_minor": 4
}
