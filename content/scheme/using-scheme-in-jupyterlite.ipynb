{
  "cells": [
    {
      "cell_type": "markdown",
      "metadata": {},
      "source": [
        "*Adapted from https://github.com/bencode/code/blob/main/content/using-scheme-in-jupyterlite.ipynb*"
      ]
    },
    {
      "cell_type": "markdown",
      "metadata": {},
      "source": [
        "## 1. Basic Operations"
      ]
    },
    {
      "cell_type": "code",
      "execution_count": 1,
      "metadata": {
        "trusted": true
      },
      "outputs": [
        {
          "data": {
            "text/plain": [
              "5"
            ]
          },
          "execution_count": 1,
          "metadata": {},
          "output_type": "execute_result"
        }
      ],
      "source": [
        ";; Basic arithmetic operations\n",
        "(+ 1 2 3)      ; Addition\n",
        "(- 10 5)       ; Subtraction\n",
        "(* 2 3 4)      ; Multiplication\n",
        "(/ 10 2)       ; Division"
      ]
    },
    {
      "cell_type": "code",
      "execution_count": 2,
      "metadata": {
        "trusted": true
      },
      "outputs": [
        {
          "data": {
            "text/plain": [
              "#t"
            ]
          },
          "execution_count": 2,
          "metadata": {},
          "output_type": "execute_result"
        }
      ],
      "source": [
        ";; Comparison operations\n",
        "(< 1 2)        ; Less than\n",
        "(> 3 2)        ; Greater than\n",
        "(= 4 4)        ; Equal to\n",
        "(<= 2 2)       ; Less than or equal to\n",
        "(>= 5 5)       ; Greater than or equal to"
      ]
    },
    {
      "cell_type": "code",
      "execution_count": 3,
      "metadata": {
        "trusted": true
      },
      "outputs": [
        {
          "data": {
            "text/plain": []
          },
          "execution_count": 3,
          "metadata": {},
          "output_type": "execute_result"
        }
      ],
      "source": [
        ";; Boolean operations\n",
        "(and #t #f)    ; Logical AND\n",
        "(or #t #f)     ; Logical OR\n",
        "(not #t)"
      ]
    },
    {
      "cell_type": "markdown",
      "metadata": {},
      "source": [
        "## 2. Variables and Definitions"
      ]
    },
    {
      "cell_type": "code",
      "execution_count": 4,
      "metadata": {
        "trusted": true
      },
      "outputs": [
        {
          "data": {
            "text/plain": [
              "150"
            ]
          },
          "execution_count": 4,
          "metadata": {},
          "output_type": "execute_result"
        }
      ],
      "source": [
        ";; Define variables\n",
        "(define x 10)\n",
        "(define y (+ x 5))\n",
        "\n",
        ";; Use variables\n",
        "(* x y)"
      ]
    },
    {
      "cell_type": "markdown",
      "metadata": {},
      "source": [
        "## 3. Conditional Statements"
      ]
    },
    {
      "cell_type": "code",
      "execution_count": 5,
      "metadata": {
        "trusted": true
      },
      "outputs": [
        {
          "data": {
            "text/plain": [
              "\"y is greater\""
            ]
          },
          "execution_count": 5,
          "metadata": {},
          "output_type": "execute_result"
        }
      ],
      "source": [
        ";; Using if\n",
        "(if (> x y)\n",
        "    \"x is greater\"\n",
        "    \"y is greater\")\n"
      ]
    },
    {
      "cell_type": "code",
      "execution_count": 6,
      "metadata": {
        "trusted": true
      },
      "outputs": [
        {
          "data": {
            "text/plain": [
              "\"y is greater\""
            ]
          },
          "execution_count": 6,
          "metadata": {},
          "output_type": "execute_result"
        }
      ],
      "source": [
        ";; Using cond\n",
        "(cond\n",
        "  [(> x y) \"x is greater\"]\n",
        "  [(< x y) \"y is greater\"]\n",
        "  [else \"x and y are equal\"])"
      ]
    },
    {
      "cell_type": "markdown",
      "metadata": {},
      "source": [
        "# 4. Functions"
      ]
    },
    {
      "cell_type": "code",
      "execution_count": 7,
      "metadata": {
        "trusted": true
      },
      "outputs": [
        {
          "data": {
            "text/plain": [
              "16"
            ]
          },
          "execution_count": 7,
          "metadata": {},
          "output_type": "execute_result"
        }
      ],
      "source": [
        ";; Define a simple function\n",
        "(define (square n)\n",
        "  (* n n))\n",
        "\n",
        ";; Call the function\n",
        "(square 4)\n",
        "\n"
      ]
    },
    {
      "cell_type": "code",
      "execution_count": 8,
      "metadata": {
        "trusted": true
      },
      "outputs": [
        {
          "data": {
            "text/plain": [
              "120"
            ]
          },
          "execution_count": 8,
          "metadata": {},
          "output_type": "execute_result"
        }
      ],
      "source": [
        ";; Define a recursive function\n",
        "(define (factorial n)\n",
        "  (if (= n 0)\n",
        "      1\n",
        "      (* n (factorial (- n 1)))))\n",
        "\n",
        ";; Call the recursive function\n",
        "(factorial 5)"
      ]
    },
    {
      "cell_type": "markdown",
      "metadata": {},
      "source": [
        "# 5. List Operations\n",
        "\n"
      ]
    },
    {
      "cell_type": "code",
      "execution_count": 9,
      "metadata": {
        "trusted": true
      },
      "outputs": [
        {
          "data": {
            "text/plain": [
              "#<void>"
            ]
          },
          "execution_count": 9,
          "metadata": {},
          "output_type": "execute_result"
        }
      ],
      "source": [
        ";; Create a list\n",
        "(define lst '(1 2 3 4 5))"
      ]
    },
    {
      "cell_type": "code",
      "execution_count": 10,
      "metadata": {
        "trusted": true
      },
      "outputs": [
        {
          "data": {
            "text/plain": [
              "5"
            ]
          },
          "execution_count": 10,
          "metadata": {},
          "output_type": "execute_result"
        }
      ],
      "source": [
        ";; Basic list operations\n",
        "(car lst)      ; Get the first element\n",
        "(cdr lst)      ; Get the rest of the elements\n",
        "(cons 0 lst)   ; Add an element to the head of the list\n",
        "(length lst)   ; Get the length of the list"
      ]
    },
    {
      "cell_type": "code",
      "execution_count": 11,
      "metadata": {
        "trusted": true
      },
      "outputs": [
        {
          "data": {
            "text/plain": [
              "(4 5)"
            ]
          },
          "execution_count": 11,
          "metadata": {},
          "output_type": "execute_result"
        }
      ],
      "source": [
        ";; Mapping and filtering\n",
        "(map square lst)                  ; Map operation\n",
        "(filter (lambda (x) (> x 3)) lst) ; Filter operation"
      ]
    },
    {
      "cell_type": "markdown",
      "metadata": {},
      "source": [
        "# 6. Higher-Order Functions"
      ]
    },
    {
      "cell_type": "code",
      "execution_count": 12,
      "metadata": {
        "trusted": true
      },
      "outputs": [
        {
          "data": {
            "text/plain": [
              "(2 4 6 8 10)"
            ]
          },
          "execution_count": 12,
          "metadata": {},
          "output_type": "execute_result"
        }
      ],
      "source": [
        ";; Using a lambda expression\n",
        "(map (lambda (x) (* x 2)) lst)"
      ]
    },
    {
      "cell_type": "code",
      "execution_count": 13,
      "metadata": {
        "trusted": true
      },
      "outputs": [
        {
          "data": {
            "text/plain": [
              "16"
            ]
          },
          "execution_count": 13,
          "metadata": {},
          "output_type": "execute_result"
        }
      ],
      "source": [
        ";; Custom higher-order function\n",
        "(define (apply-twice f x)\n",
        "  (f (f x)))\n",
        "\n",
        ";; Call the higher-order function\n",
        "(apply-twice square 2)"
      ]
    },
    {
      "cell_type": "code",
      "execution_count": 14,
      "metadata": {
        "trusted": true
      },
      "outputs": [
        {
          "name": "stdout",
          "output_type": "stream",
          "text": [
            "Hello\n"
          ]
        },
        {
          "data": {
            "text/plain": [
              "#<void>"
            ]
          },
          "execution_count": 14,
          "metadata": {},
          "output_type": "execute_result"
        }
      ],
      "source": [
        "(display \"Hello\")\n",
        "(newline)"
      ]
    },
    {
      "cell_type": "markdown",
      "metadata": {},
      "source": [
        "## 7. Input and Output"
      ]
    },
    {
      "cell_type": "code",
      "execution_count": 15,
      "metadata": {
        "trusted": true
      },
      "outputs": [
        {
          "name": "stdout",
          "output_type": "stream",
          "text": [
            "Hello, Scheme!\n"
          ]
        },
        {
          "data": {
            "text/plain": [
              "#<void>"
            ]
          },
          "execution_count": 15,
          "metadata": {},
          "output_type": "execute_result"
        }
      ],
      "source": [
        ";; Output to the console\n",
        "(display \"Hello, Scheme!\")\n",
        "(newline)"
      ]
    },
    {
      "cell_type": "markdown",
      "metadata": {},
      "source": [
        "## 8. Loops"
      ]
    },
    {
      "cell_type": "code",
      "execution_count": 16,
      "metadata": {
        "trusted": true
      },
      "outputs": [
        {
          "name": "stdout",
          "output_type": "stream",
          "text": [
            "Scheme\n",
            "Scheme\n",
            "Scheme\n"
          ]
        },
        {
          "data": {
            "text/plain": [
              "#<void>"
            ]
          },
          "execution_count": 16,
          "metadata": {},
          "output_type": "execute_result"
        }
      ],
      "source": [
        ";; Simulate a loop using recursion\n",
        "(define (print-n-times n)\n",
        "  (if (> n 0)\n",
        "      (begin\n",
        "        (display \"Scheme\")\n",
        "        (newline)\n",
        "        (print-n-times (- n 1)))))\n",
        "\n",
        "(print-n-times 3)"
      ]
    },
    {
      "cell_type": "markdown",
      "metadata": {},
      "source": [
        "## 10. String Operations"
      ]
    },
    {
      "cell_type": "code",
      "execution_count": 17,
      "metadata": {
        "trusted": true
      },
      "outputs": [
        {
          "data": {
            "text/plain": [
              "#t"
            ]
          },
          "execution_count": 17,
          "metadata": {},
          "output_type": "execute_result"
        }
      ],
      "source": [
        ";; String concatenation\n",
        "(string-append \"Hello, \" \"World!\")\n",
        "\n",
        ";; String length\n",
        "(string-length \"Scheme\")\n",
        "\n",
        ";; Substring\n",
        "(substring \"Functional Programming\" 0 10)\n",
        "\n",
        ";; String comparison\n",
        "(string=? \"Scheme\" \"scheme\") ; Case-sensitive\n",
        "(string-ci=? \"Scheme\" \"scheme\") ; Case-insensitive"
      ]
    },
    {
      "cell_type": "markdown",
      "metadata": {},
      "source": [
        "## 11. Symbol Manipulation"
      ]
    },
    {
      "cell_type": "code",
      "execution_count": 18,
      "metadata": {
        "trusted": true
      },
      "outputs": [
        {
          "data": {
            "text/plain": [
              "\"scheme\""
            ]
          },
          "execution_count": 18,
          "metadata": {},
          "output_type": "execute_result"
        }
      ],
      "source": [
        ";; Create symbols\n",
        "(define sym 'hello)\n",
        "\n",
        ";; Compare symbols\n",
        "(eq? 'hello 'hello) ; Returns #t\n",
        "(eq? 'hello 'world) ; Returns #f\n",
        "\n",
        ";; Convert between strings and symbols\n",
        "(string->symbol \"scheme\")\n",
        "(symbol->string 'scheme)"
      ]
    },
    {
      "cell_type": "markdown",
      "metadata": {},
      "source": [
        "## 12. Pair Operations"
      ]
    },
    {
      "cell_type": "code",
      "execution_count": 19,
      "metadata": {
        "trusted": true
      },
      "outputs": [
        {
          "data": {
            "text/plain": [
              "1"
            ]
          },
          "execution_count": 19,
          "metadata": {},
          "output_type": "execute_result"
        }
      ],
      "source": [
        ";; Create a pair\n",
        "(define p (cons 1 2))\n",
        "\n",
        ";; Access pair elements\n",
        "(car p) ; First element\n",
        "(cdr p) ; Second element\n",
        "\n",
        ";; Check if a pair\n",
        "(pair? p) ; Returns #t\n",
        "\n",
        ";; Nested pairs (representing lists)\n",
        "(define nested-pair (cons (cons 1 2) (cons 3 4)))\n",
        "(car (car nested-pair)) ; Access nested elements"
      ]
    },
    {
      "cell_type": "markdown",
      "metadata": {},
      "source": [
        "## 13. Vectors"
      ]
    },
    {
      "cell_type": "code",
      "execution_count": 20,
      "metadata": {
        "trusted": true
      },
      "outputs": [
        {
          "data": {
            "text/plain": [
              "(1 2 10 4 5)"
            ]
          },
          "execution_count": 20,
          "metadata": {},
          "output_type": "execute_result"
        }
      ],
      "source": [
        ";; Create a vector\n",
        "(define vec (vector 1 2 3 4 5))\n",
        "\n",
        ";; Access and modify vector elements\n",
        "(vector-ref vec 2) ; Get the third element\n",
        "(vector-set! vec 2 10) ; Modify the third element\n",
        "\n",
        ";; Vector length\n",
        "(vector-length vec)\n",
        "\n",
        ";; Convert between list and vector\n",
        "(list->vector '(1 2 3))\n",
        "(vector->list vec)"
      ]
    },
    {
      "cell_type": "markdown",
      "metadata": {},
      "source": [
        "## 14. Error Handling"
      ]
    },
    {
      "cell_type": "code",
      "execution_count": 21,
      "metadata": {
        "trusted": true
      },
      "outputs": [
        {
          "data": {
            "text/plain": []
          },
          "execution_count": 21,
          "metadata": {},
          "output_type": "execute_result"
        }
      ],
      "source": [
        "; ??"
      ]
    },
    {
      "cell_type": "markdown",
      "metadata": {},
      "source": [
        "## 15. Delayed Evaluation (Promises)"
      ]
    },
    {
      "cell_type": "code",
      "execution_count": 22,
      "metadata": {
        "trusted": true
      },
      "outputs": [
        {
          "data": {
            "text/plain": [
              "15"
            ]
          },
          "execution_count": 22,
          "metadata": {},
          "output_type": "execute_result"
        }
      ],
      "source": [
        ";; Create a promise\n",
        "(define promise (delay (* 2 3)))\n",
        "\n",
        ";; Force the promise to evaluate\n",
        "(force promise)\n",
        "\n",
        ";; Lazy computation using promises\n",
        "(define lazy-sum\n",
        "  (lambda (a b)\n",
        "    (delay (+ a b))))\n",
        "\n",
        "(force (lazy-sum 5 10)) ; Evaluates to 15"
      ]
    },
    {
      "cell_type": "markdown",
      "metadata": {},
      "source": [
        "## 16. Iteration Using do"
      ]
    },
    {
      "cell_type": "code",
      "execution_count": 23,
      "metadata": {
        "trusted": true
      },
      "outputs": [
        {
          "name": "stdout",
          "output_type": "stream",
          "text": [
            "1\n",
            "2\n",
            "3\n",
            "4\n",
            "5\n"
          ]
        },
        {
          "data": {
            "text/plain": [
              "#<void>"
            ]
          },
          "execution_count": 23,
          "metadata": {},
          "output_type": "execute_result"
        }
      ],
      "source": [
        ";; Using do for iteration\n",
        "(do ((i 1 (+ i 1))) ; Initialize i to 1 and increment by 1\n",
        "    ((> i 5))       ; Stop when i > 5\n",
        "  (display i)       ; Body of the loop\n",
        "  (newline))"
      ]
    },
    {
      "cell_type": "markdown",
      "metadata": {},
      "source": [
        "## 17. Let Bindings"
      ]
    },
    {
      "cell_type": "code",
      "execution_count": 24,
      "metadata": {
        "trusted": true
      },
      "outputs": [
        {
          "name": "stdout",
          "output_type": "stream",
          "text": [
            "5\n",
            "4\n",
            "3\n",
            "2\n",
            "1\n"
          ]
        },
        {
          "data": {
            "text/plain": [
              "#<void>"
            ]
          },
          "execution_count": 24,
          "metadata": {},
          "output_type": "execute_result"
        }
      ],
      "source": [
        ";; Simple let binding\n",
        "(let ((x 10)\n",
        "      (y 20))\n",
        "  (+ x y)) ; Returns 30\n",
        "\n",
        ";; Nested let bindings\n",
        "(let ((a 1))\n",
        "  (let ((b 2))\n",
        "    (+ a b))) ; Returns 3\n",
        "\n",
        ";; Named let for recursion\n",
        "(let loop ((n 5))\n",
        "  (if (> n 0)\n",
        "      (begin\n",
        "        (display n)\n",
        "        (newline)\n",
        "        (loop (- n 1)))))"
      ]
    },
    {
      "cell_type": "markdown",
      "metadata": {},
      "source": [
        "## 19. Macros"
      ]
    },
    {
      "cell_type": "code",
      "execution_count": 25,
      "metadata": {
        "trusted": true
      },
      "outputs": [
        {
          "name": "stdout",
          "output_type": "stream",
          "text": [
            "5 is greater than 3\n"
          ]
        },
        {
          "data": {
            "text/plain": [
              "#<void>"
            ]
          },
          "execution_count": 25,
          "metadata": {},
          "output_type": "execute_result"
        }
      ],
      "source": [
        ";; Simple macro\n",
        "(define-syntax when\n",
        "  (syntax-rules ()\n",
        "    ((when test body ...)\n",
        "     (if test (begin body ...)))))\n",
        "\n",
        ";; Use the macro\n",
        "(when (> 5 3)\n",
        "  (display \"5 is greater than 3\")\n",
        "  (newline))\n",
        "\n",
        ";; Defining a macro to simplify repeated tasks\n",
        "(define-syntax inc!\n",
        "  (syntax-rules ()\n",
        "    ((inc! var)\n",
        "     (set! var (+ var 1)))))\n",
        "\n",
        ";; Use the macro\n",
        "(define counter 0)\n",
        "(inc! counter)\n",
        "(display counter)"
      ]
    },
    {
      "cell_type": "code",
      "execution_count": 26,
      "metadata": {
        "trusted": true
      },
      "outputs": [
        {
          "data": {
            "text/plain": [
              "#<void>"
            ]
          },
          "execution_count": 26,
          "metadata": {},
          "output_type": "execute_result"
        }
      ],
      "source": [
        "(display counter)"
      ]
    },
    {
      "cell_type": "code",
      "execution_count": 27,
      "metadata": {
        "trusted": true
      },
      "outputs": [
        {
          "data": {
            "text/plain": [
              "1"
            ]
          },
          "execution_count": 27,
          "metadata": {},
          "output_type": "execute_result"
        }
      ],
      "source": [
        "counter"
      ]
    },
    {
      "cell_type": "markdown",
      "metadata": {},
      "source": [
        "## 20. Advanced Recursive Patterns"
      ]
    },
    {
      "cell_type": "code",
      "execution_count": 28,
      "metadata": {
        "trusted": true
      },
      "outputs": [
        {
          "data": {
            "text/plain": [
              "120"
            ]
          },
          "execution_count": 28,
          "metadata": {},
          "output_type": "execute_result"
        }
      ],
      "source": [
        ";; Recursive sum of a list\n",
        "(define (sum lst)\n",
        "  (if (null? lst)\n",
        "      0\n",
        "      (+ (car lst) (sum (cdr lst)))))\n",
        "\n",
        "(sum '(1 2 3 4 5)) ; Returns 15\n",
        "\n",
        ";; Tail-recursive factorial\n",
        "(define (factorial-tail n acc)\n",
        "  (if (= n 0)\n",
        "      acc\n",
        "      (factorial-tail (- n 1) (* n acc))))\n",
        "\n",
        "(factorial-tail 5 1) ; Returns 120"
      ]
    },
    {
      "cell_type": "markdown",
      "metadata": {},
      "source": [
        "## 21. Continuations"
      ]
    },
    {
      "cell_type": "code",
      "execution_count": 29,
      "metadata": {
        "trusted": true
      },
      "outputs": [
        {
          "data": {
            "text/plain": [
              "\"Exited early\""
            ]
          },
          "execution_count": 29,
          "metadata": {},
          "output_type": "execute_result"
        }
      ],
      "source": [
        ";; Using call/cc (call-with-current-continuation)\n",
        "(define (example-continuation)\n",
        "  (call/cc\n",
        "    (lambda (cont)\n",
        "      (cont \"Exited early\")\n",
        "      \"This will not be executed\")))\n",
        "\n",
        "(example-continuation) ; Returns \"Exited early\""
      ]
    },
    {
      "cell_type": "markdown",
      "metadata": {},
      "source": [
        "## 23. Multiple Return Values"
      ]
    },
    {
      "cell_type": "code",
      "execution_count": 30,
      "metadata": {
        "trusted": true
      },
      "outputs": [
        {
          "data": {
            "text/plain": [
              "7"
            ]
          },
          "execution_count": 30,
          "metadata": {},
          "output_type": "execute_result"
        }
      ],
      "source": [
        ";; Define a point structure\n",
        "(define (make-point x y)\n",
        "  (list x y))\n",
        "\n",
        "(define (point-x p) (car p))\n",
        "(define (point-y p) (cadr p))\n",
        "\n",
        ";; Use the point structure\n",
        "(define p (make-point 3 4))\n",
        "(+ (point-x p) (point-y p)) ; Returns 7"
      ]
    },
    {
      "cell_type": "markdown",
      "metadata": {},
      "source": [
        "## 26. Associative Lists (Alists)"
      ]
    },
    {
      "cell_type": "code",
      "execution_count": 31,
      "metadata": {
        "trusted": true
      },
      "outputs": [
        {
          "data": {
            "text/plain": [
              "\"value1\""
            ]
          },
          "execution_count": 31,
          "metadata": {},
          "output_type": "execute_result"
        }
      ],
      "source": [
        ";; Create an alist\n",
        "(define alist '((key1 . \"value1\") (key2 . \"value2\")))\n",
        "\n",
        ";; Lookup a key\n",
        "(define (lookup key alist)\n",
        "  (cond\n",
        "    [(null? alist) #f]\n",
        "    [(eq? (car (car alist)) key) (cdr (car alist))]\n",
        "    [else (lookup key (cdr alist))]))\n",
        "\n",
        "(lookup 'key1 alist)"
      ]
    },
    {
      "cell_type": "markdown",
      "metadata": {},
      "source": [
        "## 27. Memoization"
      ]
    },
    {
      "cell_type": "code",
      "execution_count": 32,
      "metadata": {
        "trusted": true
      },
      "outputs": [
        {
          "data": {
            "text/plain": [
              "#<void>"
            ]
          },
          "execution_count": 32,
          "metadata": {},
          "output_type": "execute_result"
        }
      ],
      "source": [
        "(define (memoize f)\n",
        "  (let ((cache '())) ; Initialize an empty alist\n",
        "    (lambda (x)\n",
        "      (let ((entry (assoc x cache))) ; Check if x is in the cache\n",
        "        (if entry\n",
        "            (cdr entry) ; Return the cached value\n",
        "            (let ((result (f x)))\n",
        "              (set! cache (cons (cons x result) cache)) ; Add to cache\n",
        "              result))))))"
      ]
    },
    {
      "cell_type": "code",
      "execution_count": 33,
      "metadata": {
        "trusted": true
      },
      "outputs": [
        {
          "data": {
            "text/plain": [
              "55"
            ]
          },
          "execution_count": 33,
          "metadata": {},
          "output_type": "execute_result"
        }
      ],
      "source": [
        "(define (fib n)\n",
        "  (if (<= n 1)\n",
        "      n\n",
        "      (+ (fib (- n 1)) (fib (- n 2)))))\n",
        "\n",
        "(define memo-fib (memoize fib))\n",
        "\n",
        "(memo-fib 10) "
      ]
    },
    {
      "cell_type": "code",
      "execution_count": null,
      "metadata": {
        "trusted": true
      },
      "outputs": [],
      "source": []
    }
  ],
  "metadata": {
    "kernelspec": {
      "display_name": "scheme",
      "language": "scheme",
      "name": "scheme"
    },
    "language_info": {
      "codemirror_mode": {
        "name": "scheme"
      },
      "file_extension": ".scm",
      "mimetype": "text/x-scheme",
      "name": "scheme",
      "pygments_lexer": "scheme",
      "version": "10.2.0"
    }
  },
  "nbformat": 4,
  "nbformat_minor": 4
}
