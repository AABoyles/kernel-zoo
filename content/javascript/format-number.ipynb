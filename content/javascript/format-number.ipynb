{
  "cells": [
    {
      "cell_type": "markdown",
      "metadata": {},
      "source": [
        "# From a Number Formatting Example to Function Composition"
      ]
    },
    {
      "cell_type": "markdown",
      "metadata": {},
      "source": [
        "*Adapted from https://github.com/bencode/code/blob/main/content/format-number.ipynb*"
      ]
    },
    {
      "cell_type": "markdown",
      "metadata": {},
      "source": [
        "Suppose we need to implement a number formatting function with the following requirements:\n",
        "\n",
        "- Format options including percentage and suffixes like `wan`, `yi`, etc.\n",
        "- Configurable decimal precision\n",
        "- Rounding methods: round, ceiling, and floor\n",
        "- Thousands separator\n",
        "- Custom prefixes and suffixes\n",
        "\n",
        "See the TypeScript definition for details."
      ]
    },
    {
      "cell_type": "markdown",
      "metadata": {},
      "source": [
        "## Number Formatting"
      ]
    },
    {
      "cell_type": "markdown",
      "metadata": {
        "jp-MarkdownHeadingCollapsed": true
      },
      "source": [
        "### Interface Definition\n",
        "\n",
        "Please excuse that this example is in a Chinese context\n",
        "\n",
        "```ts\n",
        "export type FormatRules = Partial<{\n",
        "  format: string\n",
        "  precision: number\n",
        "  carry: 'floor' | 'ceil' | 'round'\n",
        "  thousandsSeparator: boolean\n",
        "}>\n",
        "\n",
        "type FormatEnum =\n",
        "  | 'percent'\n",
        "  | 'wan'     // 10k (Chinese: 万)\n",
        "  | 'baiwan'  // 1M (Chinese: 百万)\n",
        "  | 'qianwan' // 10M (Chinese: 千万)\n",
        "  | 'yi'      // 100M (Chinese: 亿)\n",
        "\n",
        "export function formatNumber(value: number, opts: FormatRules);\n",
        "```"
      ]
    },
    {
      "cell_type": "markdown",
      "metadata": {},
      "source": [
        "### format suffix\n",
        "\n",
        "Suitable suffixes will be added after formatting"
      ]
    },
    {
      "cell_type": "code",
      "execution_count": 1,
      "metadata": {
        "trusted": true
      },
      "outputs": [
        {
          "data": {
            "text/plain": [
              "'%'"
            ]
          },
          "execution_count": 1,
          "metadata": {},
          "output_type": "execute_result"
        }
      ],
      "source": [
        "function getFormatSuffix(format) {\n",
        "  const map = {\n",
        "    percent: '%',\n",
        "    wan: '万',\n",
        "    baiwan: '百万',\n",
        "    qianwan: '千万',\n",
        "    yi: '亿',\n",
        "  }\n",
        "  return map[format]\n",
        "}\n",
        "\n",
        "getFormatSuffix('percent')"
      ]
    },
    {
      "cell_type": "code",
      "execution_count": 2,
      "metadata": {
        "trusted": true
      },
      "outputs": [
        {
          "data": {
            "text/plain": [
              "'亿'"
            ]
          },
          "execution_count": 2,
          "metadata": {},
          "output_type": "execute_result"
        }
      ],
      "source": [
        "getFormatSuffix('yi') // Sorry for using Chinese pinyin, it's a bit evil."
      ]
    },
    {
      "cell_type": "markdown",
      "metadata": {},
      "source": [
        "### auto\n",
        "\n",
        "When format is not specified, we need to \"infer\" an appropriate format - of course, this only applies to the units mentioned above."
      ]
    },
    {
      "cell_type": "code",
      "execution_count": 3,
      "metadata": {
        "trusted": true
      },
      "outputs": [
        {
          "data": {},
          "execution_count": 3,
          "metadata": {},
          "output_type": "execute_result"
        }
      ],
      "source": [
        "function detectFormat(value) {\n",
        "  const list = [\n",
        "    [1_0000_0000, 'yi'],\n",
        "    [1000_0000, 'qianwan'],\n",
        "    [100_0000, 'baiwan'],\n",
        "    [1_0000, 'wan'],\n",
        "  ]\n",
        "  const item = list.find(pair => value >= pair[0])\n",
        "  return item ? item[1] : undefined\n",
        "}"
      ]
    },
    {
      "cell_type": "code",
      "execution_count": 4,
      "metadata": {
        "trusted": true
      },
      "outputs": [
        {
          "data": {
            "text/plain": [
              "'yi'"
            ]
          },
          "execution_count": 4,
          "metadata": {},
          "output_type": "execute_result"
        }
      ],
      "source": [
        "detectFormat(123456789)"
      ]
    },
    {
      "cell_type": "code",
      "execution_count": 5,
      "metadata": {
        "trusted": true
      },
      "outputs": [
        {
          "data": {
            "text/plain": [
              "'wan'"
            ]
          },
          "execution_count": 5,
          "metadata": {},
          "output_type": "execute_result"
        }
      ],
      "source": [
        "detectFormat(98765)"
      ]
    },
    {
      "cell_type": "code",
      "execution_count": 6,
      "metadata": {
        "trusted": true
      },
      "outputs": [
        {
          "data": {},
          "execution_count": 6,
          "metadata": {},
          "output_type": "execute_result"
        }
      ],
      "source": [
        "detectFormat(123)"
      ]
    },
    {
      "cell_type": "markdown",
      "metadata": {},
      "source": [
        "### Thousands Separator\n",
        "\n",
        "A regex-based solution would be more elegant than a loop-based one"
      ]
    },
    {
      "cell_type": "code",
      "execution_count": 7,
      "metadata": {
        "trusted": true
      },
      "outputs": [
        {
          "data": {},
          "execution_count": 7,
          "metadata": {},
          "output_type": "execute_result"
        }
      ],
      "source": [
        "function formatWithThousandsSeparator(num/*:string*/) {\n",
        "  const [integerPart, decimalPart] = num.split('.')\n",
        "  const formattedInteger = integerPart.replace(/\\B(?=(\\d{3})+(?!\\d))/g, ',')\n",
        "  return decimalPart ? `${formattedInteger}.${decimalPart}` : formattedInteger\n",
        "}"
      ]
    },
    {
      "cell_type": "code",
      "execution_count": 8,
      "metadata": {
        "trusted": true
      },
      "outputs": [
        {
          "data": {
            "text/plain": [
              "'123,456,789'"
            ]
          },
          "execution_count": 8,
          "metadata": {},
          "output_type": "execute_result"
        }
      ],
      "source": [
        "formatWithThousandsSeparator('123456789')"
      ]
    },
    {
      "cell_type": "markdown",
      "metadata": {},
      "source": [
        "Note: Credit to GPT for this regex - lookbehind/lookahead syntax isn't my strong suit 😅"
      ]
    },
    {
      "cell_type": "markdown",
      "metadata": {},
      "source": [
        "### Rounding\n",
        "\n",
        "While we can use Number's built-in functions for rounding and floor/ceiling operations,\n",
        "note that these methods only work with integers, whereas our requirement is to round to specific decimal places."
      ]
    },
    {
      "cell_type": "code",
      "execution_count": 9,
      "metadata": {
        "trusted": true
      },
      "outputs": [
        {
          "data": {},
          "execution_count": 9,
          "metadata": {},
          "output_type": "execute_result"
        }
      ],
      "source": [
        "function getCarryValue(value, type) {\n",
        "  if (type === 'floor') {\n",
        "    return Math.floor(value)\n",
        "  }\n",
        "  if (type === 'ceil') {\n",
        "    return Math.ceil(value)\n",
        "  }\n",
        "  return Math.round(value)\n",
        "}"
      ]
    },
    {
      "cell_type": "markdown",
      "metadata": {},
      "source": [
        "### Format Scaling\n",
        "\n",
        "Now that we have our utility methods ready, let's focus on the core task: scaling data based on format specifications."
      ]
    },
    {
      "cell_type": "code",
      "execution_count": 10,
      "metadata": {
        "trusted": true
      },
      "outputs": [
        {
          "data": {},
          "execution_count": 10,
          "metadata": {},
          "output_type": "execute_result"
        }
      ],
      "source": [
        "function getScaledValue(value, format) {\n",
        "  const shift = getFormatShift(format)\n",
        "  const next = shift !== 0 ? value * 10 ** shift : value\n",
        "  return next\n",
        "}\n",
        "\n",
        "function getFormatShift(format) {\n",
        "  const map = {\n",
        "    percent: 2,\n",
        "    // 万\n",
        "    wan: -4,\n",
        "    // 百万\n",
        "    baiwan: -6,\n",
        "    // 千万\n",
        "    qianwan: -7,\n",
        "    // 亿\n",
        "    yi: -8,\n",
        "  }\n",
        "  return format ? map[format] ?? 0 : 0\n",
        "}"
      ]
    },
    {
      "cell_type": "code",
      "execution_count": 11,
      "metadata": {
        "trusted": true
      },
      "outputs": [
        {
          "data": {
            "text/plain": [
              "78.5"
            ]
          },
          "execution_count": 11,
          "metadata": {},
          "output_type": "execute_result"
        }
      ],
      "source": [
        "getScaledValue(0.785, 'percent')"
      ]
    },
    {
      "cell_type": "code",
      "execution_count": 12,
      "metadata": {
        "trusted": true
      },
      "outputs": [
        {
          "data": {
            "text/plain": [
              "1.2345"
            ]
          },
          "execution_count": 12,
          "metadata": {},
          "output_type": "execute_result"
        }
      ],
      "source": [
        "getScaledValue(12345, 'wan')"
      ]
    },
    {
      "cell_type": "markdown",
      "metadata": {},
      "source": [
        "### Handle Decimal Precision\n",
        "\n",
        "Using the rounding function defined earlier `getCarryValue()`"
      ]
    },
    {
      "cell_type": "code",
      "execution_count": 13,
      "metadata": {
        "trusted": true
      },
      "outputs": [
        {
          "data": {},
          "execution_count": 13,
          "metadata": {},
          "output_type": "execute_result"
        }
      ],
      "source": [
        "function getPrecisionValue(value, precision, type) {\n",
        "  const scale = 10 ** precision\n",
        "  const next = getCarryValue(value * scale, type)\n",
        "  return next / scale\n",
        "}"
      ]
    },
    {
      "cell_type": "code",
      "execution_count": 14,
      "metadata": {
        "trusted": true
      },
      "outputs": [
        {
          "data": {
            "text/plain": [
              "123.12"
            ]
          },
          "execution_count": 14,
          "metadata": {},
          "output_type": "execute_result"
        }
      ],
      "source": [
        "getPrecisionValue(123.123, 2, 'round')"
      ]
    },
    {
      "cell_type": "code",
      "execution_count": 15,
      "metadata": {
        "scrolled": true,
        "trusted": true
      },
      "outputs": [
        {
          "data": {
            "text/plain": [
              "123.13"
            ]
          },
          "execution_count": 15,
          "metadata": {},
          "output_type": "execute_result"
        }
      ],
      "source": [
        "getPrecisionValue(123.125, 2, 'round')"
      ]
    },
    {
      "cell_type": "markdown",
      "metadata": {},
      "source": [
        "### Floating-Point Precision"
      ]
    },
    {
      "cell_type": "code",
      "execution_count": 16,
      "metadata": {
        "trusted": true
      },
      "outputs": [
        {
          "data": {
            "text/plain": [
              "0.30000000000000004"
            ]
          },
          "execution_count": 16,
          "metadata": {},
          "output_type": "execute_result"
        }
      ],
      "source": [
        "0.1 + 0.2"
      ]
    },
    {
      "cell_type": "markdown",
      "metadata": {},
      "source": [
        "Due to JavaScript's floating-point precision issues, and considering our current use case, we'll use round to avoid these problems."
      ]
    },
    {
      "cell_type": "code",
      "execution_count": 17,
      "metadata": {
        "trusted": true
      },
      "outputs": [
        {
          "data": {},
          "execution_count": 17,
          "metadata": {},
          "output_type": "execute_result"
        }
      ],
      "source": [
        "function round(value) {\n",
        "  const scale = 10 ** 8\n",
        "  return Math.round(value * scale) / scale\n",
        "}"
      ]
    },
    {
      "cell_type": "code",
      "execution_count": 18,
      "metadata": {
        "trusted": true
      },
      "outputs": [
        {
          "data": {
            "text/plain": [
              "0.3"
            ]
          },
          "execution_count": 18,
          "metadata": {},
          "output_type": "execute_result"
        }
      ],
      "source": [
        "round(0.1 + 0.2)"
      ]
    },
    {
      "cell_type": "markdown",
      "metadata": {},
      "source": [
        "### Putting It All Together\n",
        "\n",
        "With all components prepared, it's time to bring everything together."
      ]
    },
    {
      "cell_type": "code",
      "execution_count": 19,
      "metadata": {
        "trusted": true
      },
      "outputs": [
        {
          "data": {},
          "execution_count": 19,
          "metadata": {},
          "output_type": "execute_result"
        }
      ],
      "source": [
        "function formatNumber(value, opts = {}) {\n",
        "  const format = opts.format === 'auto' ? detectFormat(value) : opts.format\n",
        "  const precision = opts.precision ?? -1\n",
        "  const next = getScaledValue(value, format)\n",
        "  const result = precision >= 0 ? getPrecisionValue(next, precision, opts.carry) : next\n",
        "  const str = toString(result, precision, format, opts)\n",
        "  return str\n",
        "}"
      ]
    },
    {
      "cell_type": "markdown",
      "metadata": {},
      "source": [
        "Finally, `toString` takes care of the formatting\n",
        "\n",
        "```ts\n",
        "export type FormatRules = Partial<{\n",
        "  format: string\n",
        "  precision: number\n",
        "  carry: 'floor' | 'ceil' | 'round'\n",
        "  thousandsSeparator: boolean\n",
        "}>\n",
        "```"
      ]
    },
    {
      "cell_type": "code",
      "execution_count": 20,
      "metadata": {
        "trusted": true
      },
      "outputs": [
        {
          "data": {},
          "execution_count": 20,
          "metadata": {},
          "output_type": "execute_result"
        }
      ],
      "source": [
        "function toString(num, precision, format, opts) {\n",
        "  const value = precision >= 0 ? num.toFixed(precision) : `${round(num)}` // <-- 注意第二个分支\n",
        "  const next = opts.thousandsSeparator ? formatWithThousandsSeparator(value) : value\n",
        "  const formatSuffix = format ? getFormatSuffix(format) : ''\n",
        "  return `${next}${formatSuffix}`\n",
        "}"
      ]
    },
    {
      "cell_type": "code",
      "execution_count": 21,
      "metadata": {
        "trusted": true
      },
      "outputs": [
        {
          "data": {
            "text/plain": [
              "'123,451.23万'"
            ]
          },
          "execution_count": 21,
          "metadata": {},
          "output_type": "execute_result"
        }
      ],
      "source": [
        "formatNumber(1234512345.6789, { format: 'wan', precision: 2, carry: 'round', thousandsSeparator: true })"
      ]
    },
    {
      "cell_type": "markdown",
      "metadata": {},
      "source": [
        "### Default Precision\n",
        "\n",
        "When a precision parameter is provided, toFixed handles floating-point precision issues internally;  \n",
        "otherwise, we need to handle it ourselves - this is why we use `${round(num)}` above."
      ]
    },
    {
      "cell_type": "code",
      "execution_count": 22,
      "metadata": {
        "editable": true,
        "slideshow": {
          "slide_type": ""
        },
        "tags": [],
        "trusted": true
      },
      "outputs": [
        {
          "data": {
            "text/plain": [
              "0.8999999999999999"
            ]
          },
          "execution_count": 22,
          "metadata": {},
          "output_type": "execute_result"
        }
      ],
      "source": [
        "0.2 + 0.7"
      ]
    },
    {
      "cell_type": "code",
      "execution_count": 23,
      "metadata": {
        "trusted": true
      },
      "outputs": [
        {
          "data": {
            "text/plain": [
              "210.59999999999997"
            ]
          },
          "execution_count": 23,
          "metadata": {},
          "output_type": "execute_result"
        }
      ],
      "source": [
        "(0.2 + 0.7) * 234"
      ]
    },
    {
      "cell_type": "code",
      "execution_count": 24,
      "metadata": {
        "trusted": true
      },
      "outputs": [
        {
          "data": {
            "text/plain": [
              "'210.6'"
            ]
          },
          "execution_count": 24,
          "metadata": {},
          "output_type": "execute_result"
        }
      ],
      "source": [
        "formatNumber((0.2 + 0.7) * 234)"
      ]
    },
    {
      "cell_type": "markdown",
      "metadata": {},
      "source": [
        "## Function Composition\n",
        "\n",
        "Using function composition to refactor this scenario may feel a bit contrived, but being deliberate helps with practice."
      ]
    },
    {
      "cell_type": "markdown",
      "metadata": {},
      "source": [
        "(Continued...)"
      ]
    },
    {
      "cell_type": "code",
      "execution_count": 55,
      "metadata": {
        "trusted": true
      },
      "outputs": [
        {
          "data": {
            "text/plain": [
              "1"
            ]
          },
          "execution_count": 39,
          "metadata": {},
          "output_type": "execute_result"
        }
      ],
      "source": []
    }
  ],
  "metadata": {
    "kernelspec": {
      "display_name": "JavaScript (Web Worker)",
      "language": "javascript",
      "name": "javascript"
    },
    "language_info": {
      "codemirror_mode": {
        "name": "javascript"
      },
      "file_extension": ".js",
      "mimetype": "text/javascript",
      "name": "javascript",
      "nbconvert_exporter": "javascript",
      "pygments_lexer": "javascript",
      "version": "es2017"
    }
  },
  "nbformat": 4,
  "nbformat_minor": 4
}
